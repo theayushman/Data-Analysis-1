{
 "cells": [
  {
   "cell_type": "code",
   "execution_count": 1,
   "id": "00ef5bb2",
   "metadata": {},
   "outputs": [
    {
     "data": {
      "text/plain": [
       "'C:\\\\Users\\\\imayu'"
      ]
     },
     "execution_count": 1,
     "metadata": {},
     "output_type": "execute_result"
    }
   ],
   "source": [
    "pwd"
   ]
  },
  {
   "cell_type": "code",
   "execution_count": 2,
   "id": "f369936a",
   "metadata": {},
   "outputs": [],
   "source": [
    "import pandas as pd"
   ]
  },
  {
   "cell_type": "code",
   "execution_count": 3,
   "id": "48ee5e66",
   "metadata": {},
   "outputs": [],
   "source": [
    "df = pd.read_csv(\"googleplaystore.csv\").dropna()"
   ]
  },
  {
   "cell_type": "code",
   "execution_count": 5,
   "id": "d9526996",
   "metadata": {},
   "outputs": [
    {
     "data": {
      "text/html": [
       "<div>\n",
       "<style scoped>\n",
       "    .dataframe tbody tr th:only-of-type {\n",
       "        vertical-align: middle;\n",
       "    }\n",
       "\n",
       "    .dataframe tbody tr th {\n",
       "        vertical-align: top;\n",
       "    }\n",
       "\n",
       "    .dataframe thead th {\n",
       "        text-align: right;\n",
       "    }\n",
       "</style>\n",
       "<table border=\"1\" class=\"dataframe\">\n",
       "  <thead>\n",
       "    <tr style=\"text-align: right;\">\n",
       "      <th></th>\n",
       "      <th>App</th>\n",
       "      <th>Category</th>\n",
       "      <th>Rating</th>\n",
       "      <th>Reviews</th>\n",
       "      <th>Size</th>\n",
       "      <th>Installs</th>\n",
       "      <th>Type</th>\n",
       "      <th>Price</th>\n",
       "      <th>Content Rating</th>\n",
       "      <th>Genres</th>\n",
       "      <th>Last Updated</th>\n",
       "      <th>Current Ver</th>\n",
       "      <th>Android Ver</th>\n",
       "    </tr>\n",
       "  </thead>\n",
       "  <tbody>\n",
       "    <tr>\n",
       "      <th>0</th>\n",
       "      <td>Photo Editor &amp; Candy Camera &amp; Grid &amp; ScrapBook</td>\n",
       "      <td>ART_AND_DESIGN</td>\n",
       "      <td>4.1</td>\n",
       "      <td>159</td>\n",
       "      <td>19M</td>\n",
       "      <td>10,000+</td>\n",
       "      <td>Free</td>\n",
       "      <td>0</td>\n",
       "      <td>Everyone</td>\n",
       "      <td>Art &amp; Design</td>\n",
       "      <td>7-Jan-18</td>\n",
       "      <td>1.0.0</td>\n",
       "      <td>4.0.3 and up</td>\n",
       "    </tr>\n",
       "    <tr>\n",
       "      <th>1</th>\n",
       "      <td>Coloring book moana</td>\n",
       "      <td>ART_AND_DESIGN</td>\n",
       "      <td>3.9</td>\n",
       "      <td>967</td>\n",
       "      <td>14M</td>\n",
       "      <td>500,000+</td>\n",
       "      <td>Free</td>\n",
       "      <td>0</td>\n",
       "      <td>Everyone</td>\n",
       "      <td>Art &amp; Design;Pretend Play</td>\n",
       "      <td>15-Jan-18</td>\n",
       "      <td>2.0.0</td>\n",
       "      <td>4.0.3 and up</td>\n",
       "    </tr>\n",
       "    <tr>\n",
       "      <th>2</th>\n",
       "      <td>U Launcher Lite – FREE Live Cool Themes, Hide ...</td>\n",
       "      <td>ART_AND_DESIGN</td>\n",
       "      <td>4.7</td>\n",
       "      <td>87510</td>\n",
       "      <td>8.7M</td>\n",
       "      <td>5,000,000+</td>\n",
       "      <td>Free</td>\n",
       "      <td>0</td>\n",
       "      <td>Everyone</td>\n",
       "      <td>Art &amp; Design</td>\n",
       "      <td>1-Aug-18</td>\n",
       "      <td>1.2.4</td>\n",
       "      <td>4.0.3 and up</td>\n",
       "    </tr>\n",
       "    <tr>\n",
       "      <th>3</th>\n",
       "      <td>Sketch - Draw &amp; Paint</td>\n",
       "      <td>ART_AND_DESIGN</td>\n",
       "      <td>4.5</td>\n",
       "      <td>215644</td>\n",
       "      <td>25M</td>\n",
       "      <td>50,000,000+</td>\n",
       "      <td>Free</td>\n",
       "      <td>0</td>\n",
       "      <td>Teen</td>\n",
       "      <td>Art &amp; Design</td>\n",
       "      <td>8-Jun-18</td>\n",
       "      <td>Varies with device</td>\n",
       "      <td>4.2 and up</td>\n",
       "    </tr>\n",
       "    <tr>\n",
       "      <th>4</th>\n",
       "      <td>Pixel Draw - Number Art Coloring Book</td>\n",
       "      <td>ART_AND_DESIGN</td>\n",
       "      <td>4.3</td>\n",
       "      <td>967</td>\n",
       "      <td>2.8M</td>\n",
       "      <td>100,000+</td>\n",
       "      <td>Free</td>\n",
       "      <td>0</td>\n",
       "      <td>Everyone</td>\n",
       "      <td>Art &amp; Design;Creativity</td>\n",
       "      <td>20-Jun-18</td>\n",
       "      <td>1.1</td>\n",
       "      <td>4.4 and up</td>\n",
       "    </tr>\n",
       "  </tbody>\n",
       "</table>\n",
       "</div>"
      ],
      "text/plain": [
       "                                                 App        Category  Rating  \\\n",
       "0     Photo Editor & Candy Camera & Grid & ScrapBook  ART_AND_DESIGN     4.1   \n",
       "1                                Coloring book moana  ART_AND_DESIGN     3.9   \n",
       "2  U Launcher Lite – FREE Live Cool Themes, Hide ...  ART_AND_DESIGN     4.7   \n",
       "3                              Sketch - Draw & Paint  ART_AND_DESIGN     4.5   \n",
       "4              Pixel Draw - Number Art Coloring Book  ART_AND_DESIGN     4.3   \n",
       "\n",
       "  Reviews  Size     Installs  Type Price Content Rating  \\\n",
       "0     159   19M      10,000+  Free     0       Everyone   \n",
       "1     967   14M     500,000+  Free     0       Everyone   \n",
       "2   87510  8.7M   5,000,000+  Free     0       Everyone   \n",
       "3  215644   25M  50,000,000+  Free     0           Teen   \n",
       "4     967  2.8M     100,000+  Free     0       Everyone   \n",
       "\n",
       "                      Genres Last Updated         Current Ver   Android Ver  \n",
       "0               Art & Design     7-Jan-18               1.0.0  4.0.3 and up  \n",
       "1  Art & Design;Pretend Play    15-Jan-18               2.0.0  4.0.3 and up  \n",
       "2               Art & Design     1-Aug-18               1.2.4  4.0.3 and up  \n",
       "3               Art & Design     8-Jun-18  Varies with device    4.2 and up  \n",
       "4    Art & Design;Creativity    20-Jun-18                 1.1    4.4 and up  "
      ]
     },
     "execution_count": 5,
     "metadata": {},
     "output_type": "execute_result"
    }
   ],
   "source": [
    "df.head()\n"
   ]
  },
  {
   "cell_type": "markdown",
   "id": "e4ecb6eb",
   "metadata": {},
   "source": [
    "## Total no of categories"
   ]
  },
  {
   "cell_type": "code",
   "execution_count": 6,
   "id": "b4408e15",
   "metadata": {},
   "outputs": [
    {
     "name": "stdout",
     "output_type": "stream",
     "text": [
      "There are total 33 categories\n"
     ]
    }
   ],
   "source": [
    "print(\"There are total\", len(df['Category'].unique()),'categories')"
   ]
  },
  {
   "cell_type": "markdown",
   "id": "fe2cb915",
   "metadata": {},
   "source": [
    "## Total apps in apps and designs"
   ]
  },
  {
   "cell_type": "code",
   "execution_count": 9,
   "id": "2c1dec62",
   "metadata": {},
   "outputs": [
    {
     "name": "stdout",
     "output_type": "stream",
     "text": [
      "There are a total of 61 no of applications in apps and designs\n"
     ]
    }
   ],
   "source": [
    "c = 0\n",
    "for i in df['Category']:\n",
    "    if(i == 'ART_AND_DESIGN'):\n",
    "        c+=1\n",
    "print(\"There are a total of\", c, \"no of applications in apps and designs\")"
   ]
  },
  {
   "cell_type": "markdown",
   "id": "ab92d6a1",
   "metadata": {},
   "source": [
    "## Total no of app types"
   ]
  },
  {
   "cell_type": "code",
   "execution_count": 12,
   "id": "40fb1a5b",
   "metadata": {},
   "outputs": [
    {
     "data": {
      "text/plain": [
       "array(['Free', 'Paid'], dtype=object)"
      ]
     },
     "execution_count": 12,
     "metadata": {},
     "output_type": "execute_result"
    }
   ],
   "source": [
    "df['Type'].unique()"
   ]
  },
  {
   "cell_type": "markdown",
   "id": "5f408f69",
   "metadata": {},
   "source": [
    "## Total no of paid and free apps"
   ]
  },
  {
   "cell_type": "code",
   "execution_count": 15,
   "id": "43431669",
   "metadata": {},
   "outputs": [
    {
     "name": "stdout",
     "output_type": "stream",
     "text": [
      "There are 8715 no of free apps and 645 no of paid apps.\n"
     ]
    }
   ],
   "source": [
    "f = 0\n",
    "p = 0\n",
    "for i in df[\"Type\"]:\n",
    "    if(i == 'Free'):\n",
    "        f+=1\n",
    "    elif(i == 'Paid'):\n",
    "        p+=1\n",
    "print(\"There are\",f,\"no of free apps and\", p, \"no of paid apps.\")\n",
    "    "
   ]
  },
  {
   "cell_type": "markdown",
   "id": "757f8ebf",
   "metadata": {},
   "source": [
    "## Percentage of free apps"
   ]
  },
  {
   "cell_type": "code",
   "execution_count": 16,
   "id": "623b02e3",
   "metadata": {},
   "outputs": [
    {
     "name": "stdout",
     "output_type": "stream",
     "text": [
      "93 % applications are there.\n"
     ]
    }
   ],
   "source": [
    "print(int(f/(f+p)*100), \"% applications are there.\")"
   ]
  },
  {
   "cell_type": "markdown",
   "id": "85600709",
   "metadata": {},
   "source": [
    "## Name all the Content Ratings"
   ]
  },
  {
   "cell_type": "code",
   "execution_count": 18,
   "id": "f7c6a5f8",
   "metadata": {},
   "outputs": [
    {
     "data": {
      "text/plain": [
       "array(['Everyone', 'Teen', 'Everyone 10+', 'Mature 17+',\n",
       "       'Adults only 18+', 'Unrated'], dtype=object)"
      ]
     },
     "execution_count": 18,
     "metadata": {},
     "output_type": "execute_result"
    }
   ],
   "source": [
    "df['Content Rating'].unique()"
   ]
  },
  {
   "cell_type": "code",
   "execution_count": 21,
   "id": "88c10a23",
   "metadata": {},
   "outputs": [
    {
     "name": "stdout",
     "output_type": "stream",
     "text": [
      "Everyone\n",
      "Teen\n",
      "Everyone 10+\n",
      "Mature 17+\n",
      "Adults only 18+\n",
      "Unrated\n"
     ]
    }
   ],
   "source": [
    "for i in df['Content Rating'].unique():\n",
    "    print (i)"
   ]
  },
  {
   "cell_type": "markdown",
   "id": "d77426f6",
   "metadata": {},
   "source": [
    "## AUTOMATIC CATEGORICAL"
   ]
  },
  {
   "cell_type": "code",
   "execution_count": 24,
   "id": "5b0425c9",
   "metadata": {},
   "outputs": [
    {
     "name": "stdout",
     "output_type": "stream",
     "text": [
      "{'ART_AND_DESIGN': 61, 'AUTO_AND_VEHICLES': 134, 'BEAUTY': 176, 'BOOKS_AND_REFERENCE': 354, 'BUSINESS': 657, 'COMICS': 715, 'COMMUNICATION': 1043, 'DATING': 1238, 'EDUCATION': 1393, 'ENTERTAINMENT': 1542, 'EVENTS': 1587, 'FINANCE': 1910, 'FOOD_AND_DRINK': 2019, 'HEALTH_AND_FITNESS': 2316, 'HOUSE_AND_HOME': 2392, 'LIBRARIES_AND_DEMO': 2456, 'LIFESTYLE': 2770, 'GAME': 3867, 'FAMILY': 5613, 'MEDICAL': 5963, 'SOCIAL': 6222, 'SHOPPING': 6460, 'PHOTOGRAPHY': 6777, 'SPORTS': 7096, 'TRAVEL_AND_LOCAL': 7322, 'TOOLS': 8055, 'PERSONALIZATION': 8367, 'PRODUCTIVITY': 8718, 'PARENTING': 8768, 'WEATHER': 8843, 'VIDEO_PLAYERS': 9003, 'NEWS_AND_MAGAZINES': 9236, 'MAPS_AND_NAVIGATION': 9360}\n"
     ]
    }
   ],
   "source": [
    "categories = {}\n",
    "ct = 0\n",
    "for name in df['Category'].unique():\n",
    "    for i in df['Category']:\n",
    "        if (i == name):\n",
    "            ct +=1\n",
    "    categories[name] = ct\n",
    "print(categories)"
   ]
  },
  {
   "cell_type": "markdown",
   "id": "6c30babc",
   "metadata": {},
   "source": [
    "## Total number of apps in each type\n"
   ]
  },
  {
   "cell_type": "code",
   "execution_count": 25,
   "id": "cf91176b",
   "metadata": {},
   "outputs": [
    {
     "name": "stdout",
     "output_type": "stream",
     "text": [
      "{'Free': 8715, 'Paid': 645}\n"
     ]
    }
   ],
   "source": [
    "types = {}\n",
    "for name in df['Type'].unique():\n",
    "    ct = 0\n",
    "    for i in df['Type']:\n",
    "        if(i == name):\n",
    "            ct += 1\n",
    "    types[name] = ct\n",
    "print(types)\n",
    "        "
   ]
  },
  {
   "cell_type": "markdown",
   "id": "11a9fbad",
   "metadata": {},
   "source": [
    "## Total no of apps in Content rating"
   ]
  },
  {
   "cell_type": "code",
   "execution_count": 31,
   "id": "99a27973",
   "metadata": {},
   "outputs": [
    {
     "name": "stdout",
     "output_type": "stream",
     "text": [
      "{'Everyone': 7414, 'Teen': 1084, 'Everyone 10+': 397, 'Mature 17+': 461, 'Adults only 18+': 3, 'Unrated': 1}\n"
     ]
    }
   ],
   "source": [
    "content = {}\n",
    "for name in df['Content Rating'].unique():\n",
    "    c = 0\n",
    "    for i in df['Content Rating']:\n",
    "        if (i == name):\n",
    "            c += 1\n",
    "    content[name] = c\n",
    "print(content)"
   ]
  },
  {
   "cell_type": "code",
   "execution_count": null,
   "id": "c64f7f0a",
   "metadata": {},
   "outputs": [],
   "source": []
  },
  {
   "cell_type": "code",
   "execution_count": null,
   "id": "64544c0d",
   "metadata": {},
   "outputs": [],
   "source": []
  }
 ],
 "metadata": {
  "kernelspec": {
   "display_name": "Python 3 (ipykernel)",
   "language": "python",
   "name": "python3"
  },
  "language_info": {
   "codemirror_mode": {
    "name": "ipython",
    "version": 3
   },
   "file_extension": ".py",
   "mimetype": "text/x-python",
   "name": "python",
   "nbconvert_exporter": "python",
   "pygments_lexer": "ipython3",
   "version": "3.9.12"
  }
 },
 "nbformat": 4,
 "nbformat_minor": 5
}
